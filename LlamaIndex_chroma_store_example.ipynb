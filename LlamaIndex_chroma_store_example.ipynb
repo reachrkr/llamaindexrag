{
  "nbformat": 4,
  "nbformat_minor": 0,
  "metadata": {
    "colab": {
      "provenance": [],
      "gpuType": "T4",
      "include_colab_link": true
    },
    "kernelspec": {
      "name": "python3",
      "display_name": "Python 3"
    },
    "language_info": {
      "name": "python"
    },
    "accelerator": "GPU"
  },
  "cells": [
    {
      "cell_type": "markdown",
      "metadata": {
        "id": "view-in-github",
        "colab_type": "text"
      },
      "source": [
        "<a href=\"https://colab.research.google.com/github/reachrkr/llamaindexrag/blob/main/LlamaIndex_chroma_store_example.ipynb\" target=\"_parent\"><img src=\"https://colab.research.google.com/assets/colab-badge.svg\" alt=\"Open In Colab\"/></a>"
      ]
    },
    {
      "cell_type": "code",
      "execution_count": 1,
      "metadata": {
        "id": "nW_0yKusLRWK"
      },
      "outputs": [],
      "source": [
        "!pip install -q llama-index\n",
        "!pip install -q openai\n",
        "!pip install -q transformers\n",
        "!pip install -q accelerate\n",
        "!pip install -q optimum[exporters]\n",
        "!pip install -q InstructorEmbedding\n",
        "!pip install -q sentence_transformers\n",
        "!pip install -q pypdf\n",
        "!pip install -q chromadb"
      ]
    },
    {
      "cell_type": "code",
      "source": [
        "!pip install -q llama-index chromadb --quiet\n",
        "#!pip install -q chromadb\n",
        "#!pip install -q sentence-transformers\n",
        "!pip install -q pydantic==1.10.11"
      ],
      "metadata": {
        "id": "oxGOAxDUvKlE"
      },
      "execution_count": 2,
      "outputs": []
    },
    {
      "cell_type": "code",
      "source": [
        "from google.colab import userdata\n",
        "openapi_key=userdata.get('OPENAI_API_KEY')"
      ],
      "metadata": {
        "id": "WqhP2DFEHZDT"
      },
      "execution_count": 20,
      "outputs": []
    },
    {
      "cell_type": "code",
      "source": [
        "import os\n",
        "os.environ[\"OPENAI_API_KEY\"] = openapi_key"
      ],
      "metadata": {
        "id": "3LYEnctgbBWA"
      },
      "execution_count": 21,
      "outputs": []
    },
    {
      "cell_type": "code",
      "source": [
        "# !curl https://www.ipcc.ch/report/ar6/wg2/downloads/report/IPCC_AR6_WGII_Chapter03.pdf --output IPCC_AR6_WGII_Chapter03.pdf\n",
        "\n",
        "\n",
        "! curl https://arxiv.org/pdf/2106.07178.pdf --output AD1.pdf\n",
        "! curl https://arxiv.org/pdf/1404.4679.pdf --output AD2.pdf\n",
        "! curl https://www.kdd.org/exploration_files/18-1-Article1.pdf --output AD3.pdf\n",
        "\n",
        "\n"
      ],
      "metadata": {
        "colab": {
          "base_uri": "https://localhost:8080/"
        },
        "id": "2Y_E6BUZrYp-",
        "outputId": "80a9017c-02c5-411a-ac9d-71a6c12fa34b"
      },
      "execution_count": 22,
      "outputs": [
        {
          "output_type": "stream",
          "name": "stdout",
          "text": [
            "  % Total    % Received % Xferd  Average Speed   Time    Time     Time  Current\n",
            "                                 Dload  Upload   Total   Spent    Left  Speed\n",
            "100 5448k  100 5448k    0     0  1491k      0  0:00:03  0:00:03 --:--:-- 1491k\n",
            "  % Total    % Received % Xferd  Average Speed   Time    Time     Time  Current\n",
            "                                 Dload  Upload   Total   Spent    Left  Speed\n",
            "100 2161k  100 2161k    0     0  1144k      0  0:00:01  0:00:01 --:--:-- 1143k\n",
            "  % Total    % Received % Xferd  Average Speed   Time    Time     Time  Current\n",
            "                                 Dload  Upload   Total   Spent    Left  Speed\n",
            "100 2276k  100 2276k    0     0  2820k      0 --:--:-- --:--:-- --:--:-- 2821k\n"
          ]
        }
      ]
    },
    {
      "cell_type": "code",
      "source": [
        "! ls -ltr"
      ],
      "metadata": {
        "id": "-mQPptAH4LJb",
        "outputId": "10a877c3-b741-4828-fe21-db806ae44d9d",
        "colab": {
          "base_uri": "https://localhost:8080/"
        }
      },
      "execution_count": 23,
      "outputs": [
        {
          "output_type": "stream",
          "name": "stdout",
          "text": [
            "total 22348\n",
            "drwxr-xr-x 1 root root     4096 Nov  7 14:26 sample_data\n",
            "-rw-r--r-- 1 root root 12742280 Nov  9 07:04 utput\n",
            "drwxr-xr-x 4 root root     4096 Nov  9 08:04 chroma_db\n",
            "-rw-r--r-- 1 root root  5579402 Nov  9 08:06 AD1.pdf\n",
            "-rw-r--r-- 1 root root  2213819 Nov  9 08:06 AD2.pdf\n",
            "-rw-r--r-- 1 root root  2331363 Nov  9 08:06 AD3.pdf\n"
          ]
        }
      ]
    },
    {
      "cell_type": "code",
      "source": [
        "# import\n",
        "from llama_index import VectorStoreIndex, SimpleDirectoryReader, ServiceContext\n",
        "from llama_index.vector_stores import ChromaVectorStore\n",
        "from llama_index.storage.storage_context import StorageContext\n",
        "from llama_index.embeddings import HuggingFaceEmbedding\n",
        "from llama_index.llms import OpenAI\n",
        "from IPython.display import Markdown, display\n",
        "import chromadb\n"
      ],
      "metadata": {
        "id": "482wzQ6mvYxS"
      },
      "execution_count": 24,
      "outputs": []
    },
    {
      "cell_type": "code",
      "source": [
        "# define embedding function\n",
        "embed_model = HuggingFaceEmbedding(model_name=\"BAAI/bge-base-en-v1.5\")"
      ],
      "metadata": {
        "id": "8pfCTvG9vY8m"
      },
      "execution_count": 25,
      "outputs": []
    },
    {
      "cell_type": "code",
      "source": [
        "documents = SimpleDirectoryReader(\n",
        "    input_files=[\"AD1.pdf\",\"AD2.pdf\",\"AD3.pdf\"]\n",
        ").load_data()"
      ],
      "metadata": {
        "id": "MPhHSUtnvY_c"
      },
      "execution_count": 26,
      "outputs": []
    },
    {
      "cell_type": "markdown",
      "source": [
        "# CHROMA-DB"
      ],
      "metadata": {
        "id": "-8jlgXGp47cu"
      }
    },
    {
      "cell_type": "code",
      "source": [],
      "metadata": {
        "id": "bP1CgwWR4H5E"
      },
      "execution_count": 8,
      "outputs": []
    },
    {
      "cell_type": "code",
      "source": [
        "# create client and a new collection\n",
        "chroma_client = chromadb.EphemeralClient()\n",
        "chroma_client.delete_collection(\"AD_paper\")\n",
        "chroma_collection = chroma_client.create_collection(\"AD_paper\")"
      ],
      "metadata": {
        "id": "FLmWj6-dwVyN"
      },
      "execution_count": 28,
      "outputs": []
    },
    {
      "cell_type": "code",
      "source": [],
      "metadata": {
        "id": "hG5Hlw2V4Q_M"
      },
      "execution_count": null,
      "outputs": []
    },
    {
      "cell_type": "markdown",
      "source": [
        "### Set up ChromaVectorStore and load in data\n"
      ],
      "metadata": {
        "id": "_4zBzlbcwLq_"
      }
    },
    {
      "cell_type": "code",
      "source": [
        "# set up ChromaVectorStore and load in data\n",
        "vector_store = ChromaVectorStore(chroma_collection=chroma_collection)\n"
      ],
      "metadata": {
        "id": "g1KwBHHuwKyD"
      },
      "execution_count": 29,
      "outputs": []
    },
    {
      "cell_type": "code",
      "source": [
        "storage_context = StorageContext.from_defaults(vector_store=vector_store)"
      ],
      "metadata": {
        "id": "TPDtjS5P4fn2"
      },
      "execution_count": 30,
      "outputs": []
    },
    {
      "cell_type": "code",
      "source": [
        "service_context = ServiceContext.from_defaults(embed_model=embed_model)"
      ],
      "metadata": {
        "id": "XnwdnuZn4frc"
      },
      "execution_count": 31,
      "outputs": []
    },
    {
      "cell_type": "code",
      "source": [
        "\n",
        "index = VectorStoreIndex.from_documents(documents,\n",
        "                                        storage_context=storage_context,\n",
        "                                        service_context=service_context)"
      ],
      "metadata": {
        "id": "Psv-DFtX4ful"
      },
      "execution_count": 32,
      "outputs": []
    },
    {
      "cell_type": "code",
      "source": [
        "index"
      ],
      "metadata": {
        "id": "R7JrIk3L7pfM",
        "outputId": "2fb2fca6-2269-4708-da86-e09708b18439",
        "colab": {
          "base_uri": "https://localhost:8080/"
        }
      },
      "execution_count": 33,
      "outputs": [
        {
          "output_type": "execute_result",
          "data": {
            "text/plain": [
              "<llama_index.indices.vector_store.base.VectorStoreIndex at 0x7979b978a2c0>"
            ]
          },
          "metadata": {},
          "execution_count": 33
        }
      ]
    },
    {
      "cell_type": "code",
      "source": [
        "# Query Data\n",
        "query_engine = index.as_query_engine()\n",
        "\n",
        "response = query_engine.query(\"Reinforcement Learning Based Techniques?\")\n",
        "\n",
        "display(Markdown(f\"{response}\"))"
      ],
      "metadata": {
        "colab": {
          "base_uri": "https://localhost:8080/",
          "height": 133
        },
        "id": "M9KHTQG8wK3_",
        "outputId": "22788436-7c13-43b5-e797-eb8c18a0d9ef"
      },
      "execution_count": 34,
      "outputs": [
        {
          "output_type": "display_data",
          "data": {
            "text/plain": [
              "<IPython.core.display.Markdown object>"
            ],
            "text/markdown": "Reinforcement learning based techniques have been successfully applied in the field of anomaly detection. One approach, called NAC, combines reinforcement learning and network embedding techniques to selectively harvest anomalous nodes. NAC is trained with labeled data and learns a node selection plan that can identify anomalous nodes in the undiscovered area of a graph. Another algorithm, GraphUCB, models both attribute information and structural information in attributed graphs for anomalous node detection. It uses the contextual multi-armed bandit technology to output potential anomalies and continuously optimizes the decision-making strategy based on expert evaluation. These reinforcement learning based techniques show promise in detecting anomalies in various types of graphs."
          },
          "metadata": {}
        }
      ]
    },
    {
      "cell_type": "code",
      "source": [
        "response = query_engine.query(\"Give a summary of all the techniques?\")\n",
        "\n",
        "display(Markdown(f\"{response}\"))"
      ],
      "metadata": {
        "id": "nKGRx-E5KtRj",
        "outputId": "041dd8c1-63ff-4f21-8a00-5595eace7359",
        "colab": {
          "base_uri": "https://localhost:8080/",
          "height": 98
        }
      },
      "execution_count": 39,
      "outputs": [
        {
          "output_type": "display_data",
          "data": {
            "text/plain": [
              "<IPython.core.display.Markdown object>"
            ],
            "text/markdown": "The techniques mentioned in the given context include feature-based and proximity-based approaches for anomaly detection in static plain graphs. Feature-based approaches extract structural graph-centric features, such as node degree and subgraph centrality, to identify outliers. Proximity-based approaches use the graph structure to quantify the closeness of nodes and identify associations. These techniques can be used together with other features extracted from additional information sources for outlier detection in the constructed graph."
          },
          "metadata": {}
        }
      ]
    },
    {
      "cell_type": "markdown",
      "source": [
        "### How to Persist: Saving to Disk"
      ],
      "metadata": {
        "id": "WFasbpZJ0TUb"
      }
    },
    {
      "cell_type": "code",
      "source": [
        "db = chromadb.PersistentClient(path=\"./chroma_db\")\n",
        "\n",
        "\n",
        "chroma_collection = db.get_or_create_collection(\"AD_paper\")\n",
        "\n",
        "vector_store = ChromaVectorStore(chroma_collection=chroma_collection)\n",
        "\n",
        "storage_context = StorageContext.from_defaults(vector_store=vector_store)\n",
        "\n",
        "service_context = ServiceContext.from_defaults(embed_model=embed_model,\n",
        "                                               chunk_size=800,\n",
        "                                               chunk_overlap=20)\n",
        "\n",
        "index = VectorStoreIndex.from_documents(\n",
        "    documents, storage_context=storage_context, service_context=service_context\n",
        ")"
      ],
      "metadata": {
        "id": "B5i5lxQrvZCu"
      },
      "execution_count": 35,
      "outputs": []
    },
    {
      "cell_type": "code",
      "source": [],
      "metadata": {
        "id": "V69BQgST6aId"
      },
      "execution_count": 35,
      "outputs": []
    },
    {
      "cell_type": "markdown",
      "source": [
        "### Load from Disk"
      ],
      "metadata": {
        "id": "Hs9Z8BmH1BaM"
      }
    },
    {
      "cell_type": "code",
      "source": [
        "# load from disk\n",
        "db2 = chromadb.PersistentClient(path=\"./chroma_db\")\n",
        "\n",
        "chroma_collection = db2.get_or_create_collection(\"AD_paper\")\n",
        "\n",
        "vector_store = ChromaVectorStore(chroma_collection=chroma_collection)\n",
        "\n",
        "index = VectorStoreIndex.from_vector_store(\n",
        "    vector_store,\n",
        "    service_context=service_context,\n",
        ")"
      ],
      "metadata": {
        "id": "Ytlj_EPVvZFm"
      },
      "execution_count": 36,
      "outputs": []
    },
    {
      "cell_type": "code",
      "source": [
        "# Query Data\n",
        "query_engine = index.as_query_engine()\n",
        "\n",
        "response = query_engine.query(\"Reinforcement Learning Based Techniques?\")\n",
        "\n",
        "display(Markdown(f\"{response}\"))"
      ],
      "metadata": {
        "colab": {
          "base_uri": "https://localhost:8080/",
          "height": 64
        },
        "id": "nJ1bh3zh1OD7",
        "outputId": "c42f0585-62d9-462f-d63c-ef512be52b97"
      },
      "execution_count": 37,
      "outputs": [
        {
          "output_type": "display_data",
          "data": {
            "text/plain": [
              "<IPython.core.display.Markdown object>"
            ],
            "text/markdown": "Optimizing debt collections using constrained reinforcement learning is an example of a reinforcement learning based technique mentioned in the context information."
          },
          "metadata": {}
        }
      ]
    },
    {
      "cell_type": "code",
      "source": [],
      "metadata": {
        "id": "h-qGk3n-7Suh"
      },
      "execution_count": 37,
      "outputs": []
    }
  ]
}